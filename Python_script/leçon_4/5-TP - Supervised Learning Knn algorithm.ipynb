{
 "cells": [
  {
   "cell_type": "markdown",
   "id": "ec3cfc43",
   "metadata": {},
   "source": [
    "# Les données et la problématique"
   ]
  },
  {
   "cell_type": "markdown",
   "id": "c158b1c1",
   "metadata": {},
   "source": [
    "D'abord, parlons du jeu de données que nous allons utiliser. C'est un dataset très célèbre, appelé MNIST. Il est constitué d'un ensemble de 70000 images 28x28 pixels en noir et blanc annotées du chiffre correspondant (entre 0 et 9). L'objectif de ce jeu de données était de permettre à un ordinateur d'apprendre à reconnaître des nombres manuscrits automatiquement (pour lire des chèques par exemple). Ce dataset utilise des données réelles qui ont déjà été pré-traitées pour être plus facilement utilisables par un algorithme.\n",
    "\n",
    "Ci dessous un extrait du dataset."
   ]
  },
  {
   "cell_type": "markdown",
   "id": "c7627181",
   "metadata": {},
   "source": [
    "![alternatvie text](https://user.oc-static.com/upload/2016/11/27/14802845466_download.png)"
   ]
  },
  {
   "cell_type": "markdown",
   "id": "705bc955",
   "metadata": {},
   "source": [
    "Notre objectif sera donc d'entraîner un modèle qui sera capable de reconnaître les chiffres écrits sur ce type d'images. Par chance, ce jeu de données est téléchargeable directement à partir d'une fonction scikit-learn (librairie python contenant entre autre des algo de machine learning préfaits). On peut donc directement obtenir ce dataset via un appel de fonction :"
   ]
  },
  {
   "cell_type": "code",
   "execution_count": 1,
   "id": "b9ed985b",
   "metadata": {},
   "outputs": [],
   "source": [
    "from sklearn.datasets import fetch_openml\n",
    "mnist = fetch_openml('mnist_784', version=1)"
   ]
  },
  {
   "cell_type": "markdown",
   "id": "1a1609a0",
   "metadata": {},
   "source": [
    "Le dataset peut prendre un certain temps à se charger, soyez patients."
   ]
  },
  {
   "cell_type": "code",
   "execution_count": 2,
   "id": "bc1839ae",
   "metadata": {},
   "outputs": [
    {
     "data": {
      "text/plain": [
       "(70000, 784)"
      ]
     },
     "execution_count": 2,
     "metadata": {},
     "output_type": "execute_result"
    }
   ],
   "source": [
    "# le dataset principal qui contient toutes les images\n",
    "mnist.data.shape"
   ]
  },
  {
   "cell_type": "code",
   "execution_count": 3,
   "id": "884a45aa",
   "metadata": {},
   "outputs": [
    {
     "data": {
      "text/plain": [
       "(70000,)"
      ]
     },
     "execution_count": 3,
     "metadata": {},
     "output_type": "execute_result"
    }
   ],
   "source": [
    "# le vecteur d'annotation associé au dataset (nombre compris entre 0 et 9)\n",
    "mnist.target.shape"
   ]
  },
  {
   "cell_type": "markdown",
   "id": "1a15f517",
   "metadata": {},
   "source": [
    "L'objet  mnist contient deux entrées principales,  data  et  target\n",
    "\n",
    "- **data** contient les images sous forme de tableaux de 28 x 28 = 784 couleurs de pixel en niveau de gris, c'est-à-dire que la couleur de chaque pixel est représentée par un nombre entre 0 et 16 qui représente si celle-ci est proche du noir ou pas (0 = blanc, 16 = noir). \n",
    "\n",
    "- **target** qui contient les annotations (de 1 à 9) correspondant à la valeur \"lue\" du chiffre."
   ]
  },
  {
   "cell_type": "markdown",
   "id": "36d20ed0",
   "metadata": {},
   "source": [
    "## Echantilloner pour faciliter le travail"
   ]
  },
  {
   "cell_type": "markdown",
   "id": "547001f3",
   "metadata": {},
   "source": [
    "Le dataset est relativement petit mais, pour le modèle k-NN, il est déjà trop gros pour obtenir rapidement des résultats. On va donc effectuer un sampling et travailler sur seulement 5000 données :"
   ]
  },
  {
   "cell_type": "code",
   "execution_count": 10,
   "id": "522ceed2",
   "metadata": {},
   "outputs": [],
   "source": [
    "import numpy as np\n",
    "sample = np.random.randint(70000, size=5000)"
   ]
  },
  {
   "cell_type": "code",
   "execution_count": 11,
   "id": "68ea2439",
   "metadata": {},
   "outputs": [],
   "source": [
    "data = mnist.data.loc[sample]\n",
    "target = mnist.target.loc[sample]"
   ]
  },
  {
   "cell_type": "markdown",
   "id": "7cf5e281",
   "metadata": {},
   "source": [
    "## Séparez training/testing set"
   ]
  },
  {
   "cell_type": "markdown",
   "id": "31ec12b5",
   "metadata": {},
   "source": [
    "Une fois notre dataset chargé, nous allons séparer le jeu de données en training set et testing set.\n",
    "Ici on a appelé les images d'exemple \"X\" et les annotations cibles \"y\" :"
   ]
  },
  {
   "cell_type": "code",
   "execution_count": 12,
   "id": "e0011bec",
   "metadata": {},
   "outputs": [],
   "source": [
    "from sklearn.model_selection import train_test_split\n",
    "\n",
    "xtrain, xtest, ytrain, ytest = train_test_split(data, target, train_size=0.8)"
   ]
  },
  {
   "cell_type": "markdown",
   "id": "a1278d2d",
   "metadata": {},
   "source": [
    "on va utiliser uniquement le training set pour entraîner notre modèle et on garde le testing set pour plus tard. On a mis la répartition classique 80/20 entre training et testing set."
   ]
  },
  {
   "cell_type": "markdown",
   "id": "1707d566",
   "metadata": {},
   "source": [
    "## le Knn"
   ]
  },
  {
   "cell_type": "markdown",
   "id": "27c3008e",
   "metadata": {},
   "source": [
    "On peut créer un premier classifieur 3-NN, c'est-à-dire qui prend en compte les 3 plus proches voisins pour la classification. Pour cela, on va utiliser l'implémentation de l'algorithme qui existe dans la librairie scikit-learn :"
   ]
  },
  {
   "cell_type": "code",
   "execution_count": 13,
   "id": "48854188",
   "metadata": {},
   "outputs": [
    {
     "data": {
      "text/plain": [
       "KNeighborsClassifier(n_neighbors=3)"
      ]
     },
     "execution_count": 13,
     "metadata": {},
     "output_type": "execute_result"
    }
   ],
   "source": [
    "from sklearn import neighbors\n",
    "\n",
    "knn = neighbors.KNeighborsClassifier(n_neighbors=3)\n",
    "knn.fit(xtrain, ytrain)"
   ]
  },
  {
   "cell_type": "markdown",
   "id": "15cef2e1",
   "metadata": {},
   "source": [
    "l'algorithme ici n'effectue aucune optimisation mais va juste sauvegarder toutes les données en mémoire. C'est sa manière d'apprendre en quelque sorte.\n",
    "\n",
    "Testons à présent l’erreur de notre classifieur. La méthode  score  effectue exactement ça : tester les performances de prédiction d'un classifieur dans lequel on passe un jeu de données annoté — dans notre cas le jeu de données de test. Il renvoie ainsi le pourcentage de prédiction véridique trouvée par le classifieur."
   ]
  },
  {
   "cell_type": "code",
   "execution_count": 14,
   "id": "8dc3c039",
   "metadata": {},
   "outputs": [
    {
     "name": "stdout",
     "output_type": "stream",
     "text": [
      "Erreur: 0.071000\n"
     ]
    }
   ],
   "source": [
    "error = 1 - knn.score(xtest, ytest)\n",
    "print('Erreur: %f' % error)"
   ]
  },
  {
   "cell_type": "markdown",
   "id": "35339c1f",
   "metadata": {},
   "source": [
    "**nb : La performance exacte de notre modèle dépend du jeu de sélection. N'hésitez pas à lancer plusieurs fois ce traitement en changeant les jeux de données d'apprentissage et de test pour vous en rendre compte.**"
   ]
  },
  {
   "cell_type": "markdown",
   "id": "0d9599e6",
   "metadata": {},
   "source": [
    "le k (nombre de voisins) est l'hyper-paramètre que l’on va chercher à optimiser pour minimiser l’erreur sur les données test."
   ]
  },
  {
   "cell_type": "markdown",
   "id": "8ab03c25",
   "metadata": {},
   "source": [
    "## Optimisation du score sur les données test"
   ]
  },
  {
   "cell_type": "markdown",
   "id": "1396338b",
   "metadata": {},
   "source": [
    "Pour trouver le k optimal, on va simplement tester le modèle pour tous les k de 2 à 15, mesurer l’erreur test et afficher la performance en fonction de k :"
   ]
  },
  {
   "cell_type": "code",
   "execution_count": 15,
   "id": "1c15bce5",
   "metadata": {},
   "outputs": [
    {
     "data": {
      "image/png": "[encoded data removed]",
      "text/plain": [
       "<Figure size 432x288 with 1 Axes>"
      ]
     },
     "metadata": {
      "needs_background": "light"
     },
     "output_type": "display_data"
    }
   ],
   "source": [
    "import matplotlib.pyplot as plt\n",
    "errors = []\n",
    "for k in range(2,15):\n",
    "    knn = neighbors.KNeighborsClassifier(k)\n",
    "    errors.append(100*(1 - knn.fit(xtrain, ytrain).score(xtest, ytest)))\n",
    "plt.plot(range(2,15), errors, 'o-')\n",
    "plt.show()"
   ]
  },
  {
   "cell_type": "markdown",
   "id": "24aace83",
   "metadata": {},
   "source": [
    "Comme on peut le voir, le k-NN le plus performant est celui pour lequel k = 3. On connaît donc notre classifieur final optimal : 4-nn. Ce qui veut dire que c'est celui qui classifie le mieux les données, et qui donc dans ce cas précis reconnaît au mieux les nombres écrits à la main.\n",
    "\n",
    "À titre d'exemple, vous pouvez afficher les prédictions du classifieur sur quelques données."
   ]
  },
  {
   "cell_type": "code",
   "execution_count": 16,
   "id": "6e6ab752",
   "metadata": {},
   "outputs": [
    {
     "data": {
      "image/png": "[encoded data removed]",
      "text/plain": [
       "<Figure size 432x288 with 12 Axes>"
      ]
     },
     "metadata": {
      "needs_background": "light"
     },
     "output_type": "display_data"
    }
   ],
   "source": [
    "# On récupère le classifieur le plus performant\n",
    "knn = neighbors.KNeighborsClassifier(3)\n",
    "knn.fit(xtrain, ytrain)\n",
    "\n",
    "# On récupère les prédictions sur les données test\n",
    "predicted = knn.predict(xtest)\n",
    "\n",
    "# On redimensionne les données sous forme d'images\n",
    "images = xtest.values.reshape((-1, 28, 28))\n",
    "\n",
    "# On selectionne un echantillon de 12 images au hasard\n",
    "select = np.random.randint(images.shape[0], size=12)\n",
    "\n",
    "# On affiche les images avec la prédiction associée\n",
    "fig,ax = plt.subplots(3,4)\n",
    "\n",
    "for index, value in enumerate(select):\n",
    "    plt.subplot(3,4,index+1)\n",
    "    plt.axis('off')\n",
    "    plt.imshow(images[value],cmap=plt.cm.gray_r,interpolation=\"nearest\")\n",
    "    plt.title('Predicted: {}'.format( predicted[value]) )\n",
    "\n",
    "plt.show()"
   ]
  },
  {
   "cell_type": "markdown",
   "id": "3e9cc052",
   "metadata": {},
   "source": [
    "Pour pouvoir un peu mieux comprendre les erreurs effectuées par le classifieur, on peut aussi afficher un extrait des prédictions erronées :"
   ]
  },
  {
   "cell_type": "code",
   "execution_count": 17,
   "id": "fd179b8d",
   "metadata": {},
   "outputs": [
    {
     "data": {
      "image/png": "[encoded data removed]",
      "text/plain": [
       "<Figure size 432x288 with 12 Axes>"
      ]
     },
     "metadata": {
      "needs_background": "light"
     },
     "output_type": "display_data"
    }
   ],
   "source": [
    "# on récupère les données mal prédites \n",
    "misclass = (ytest != predicted)\n",
    "misclass_images = images[misclass,:,:]\n",
    "misclass_predicted = predicted[misclass]\n",
    "\n",
    "# on sélectionne un échantillon de ces images\n",
    "select = np.random.randint(misclass_images.shape[0], size=12)\n",
    "\n",
    "# on affiche les images et les prédictions (erronées) associées à ces images\n",
    "for index, value in enumerate(select):\n",
    "    plt.subplot(3,4,index+1)\n",
    "    plt.axis('off')\n",
    "    plt.imshow(misclass_images[value],cmap=plt.cm.gray_r,interpolation=\"nearest\")\n",
    "    plt.title('Predicted: {}'.format(misclass_predicted[value]) )\n",
    "\n",
    "plt.show()"
   ]
  },
  {
   "cell_type": "markdown",
   "id": "91374979",
   "metadata": {},
   "source": [
    "## En résumé"
   ]
  },
  {
   "cell_type": "markdown",
   "id": "d4fc4846",
   "metadata": {},
   "source": [
    "On vient de voir sur un algorithme simple comment l'entraîner sur des données pour ensuite optimiser les paramètres de cet algorithme à l’aide d’un jeu de données test."
   ]
  }
 ],
 "metadata": {
  "kernelspec": {
   "display_name": "Python 3",
   "language": "python",
   "name": "python3"
  },
  "language_info": {
   "codemirror_mode": {
    "name": "ipython",
    "version": 3
   },
   "file_extension": ".py",
   "mimetype": "text/x-python",
   "name": "python",
   "nbconvert_exporter": "python",
   "pygments_lexer": "ipython3",
   "version": "3.8.8"
  }
 },
 "nbformat": 4,
 "nbformat_minor": 5
}
